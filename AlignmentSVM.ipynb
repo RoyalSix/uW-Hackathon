{
 "cells": [
  {
   "cell_type": "code",
   "execution_count": 5,
   "metadata": {},
   "outputs": [
    {
     "output_type": "stream",
     "name": "stdout",
     "text": [
      "/Users/jay/Desktop/Work/iRobot/god_alignment_data.csv\n"
     ]
    },
    {
     "output_type": "execute_result",
     "data": {
      "text/plain": [
       "       id book_id  chapter  verse  alignment_num  orig_lang_words  \\\n",
       "0  118054     luk        1      6              5  ,750353,750354,   \n",
       "1  118093     luk        1      8             12  ,750396,750397,   \n",
       "2  118206     luk        1     16              8  ,750517,750518,   \n",
       "3  118262     luk        1     19             11  ,750579,750580,   \n",
       "4  118382     luk        1     26             10  ,750709,750710,   \n",
       "\n",
       "  target_lang_words  origSpan  \\\n",
       "0          ,727232,         1   \n",
       "1          ,727274,         1   \n",
       "2          ,727452,         1   \n",
       "3          ,727539,         1   \n",
       "4          ,727714,         1   \n",
       "\n",
       "                                           origWords origWordsTxt  \\\n",
       "0  [{'id': 750353, 'book_id': 'luk', 'chapter': '...     τοῦ Θεοῦ   \n",
       "1  [{'id': 750396, 'book_id': 'luk', 'chapter': '...     τοῦ Θεοῦ   \n",
       "2  [{'id': 750517, 'book_id': 'luk', 'chapter': '...     τὸν Θεὸν   \n",
       "3  [{'id': 750579, 'book_id': 'luk', 'chapter': '...     τοῦ Θεοῦ   \n",
       "4  [{'id': 750709, 'book_id': 'luk', 'chapter': '...     τοῦ Θεοῦ   \n",
       "\n",
       "   alignmentOrigWords  targetSpan  \\\n",
       "0                   2           0   \n",
       "1                   2           0   \n",
       "2                   2           0   \n",
       "3                   2           0   \n",
       "4                   2           0   \n",
       "\n",
       "                                         targetWords targetWordsTxt  \\\n",
       "0  [{'id': 727232, 'book_id': 'luk', 'chapter': '...            God   \n",
       "1  [{'id': 727274, 'book_id': 'luk', 'chapter': '...            God   \n",
       "2  [{'id': 727452, 'book_id': 'luk', 'chapter': '...            God   \n",
       "3  [{'id': 727539, 'book_id': 'luk', 'chapter': '...            God   \n",
       "4  [{'id': 727714, 'book_id': 'luk', 'chapter': '...            God   \n",
       "\n",
       "   alignmentTargetWords    alignmentTxt  frequency  \n",
       "0                     1  τοῦ Θεοῦ = God   0.077381  \n",
       "1                     1  τοῦ Θεοῦ = God   0.077381  \n",
       "2                     1  τὸν Θεὸν = God   0.043651  \n",
       "3                     1  τοῦ Θεοῦ = God   0.077381  \n",
       "4                     1  τοῦ Θεοῦ = God   0.077381  "
      ],
      "text/html": "<div>\n<style scoped>\n    .dataframe tbody tr th:only-of-type {\n        vertical-align: middle;\n    }\n\n    .dataframe tbody tr th {\n        vertical-align: top;\n    }\n\n    .dataframe thead th {\n        text-align: right;\n    }\n</style>\n<table border=\"1\" class=\"dataframe\">\n  <thead>\n    <tr style=\"text-align: right;\">\n      <th></th>\n      <th>id</th>\n      <th>book_id</th>\n      <th>chapter</th>\n      <th>verse</th>\n      <th>alignment_num</th>\n      <th>orig_lang_words</th>\n      <th>target_lang_words</th>\n      <th>origSpan</th>\n      <th>origWords</th>\n      <th>origWordsTxt</th>\n      <th>alignmentOrigWords</th>\n      <th>targetSpan</th>\n      <th>targetWords</th>\n      <th>targetWordsTxt</th>\n      <th>alignmentTargetWords</th>\n      <th>alignmentTxt</th>\n      <th>frequency</th>\n    </tr>\n  </thead>\n  <tbody>\n    <tr>\n      <th>0</th>\n      <td>118054</td>\n      <td>luk</td>\n      <td>1</td>\n      <td>6</td>\n      <td>5</td>\n      <td>,750353,750354,</td>\n      <td>,727232,</td>\n      <td>1</td>\n      <td>[{'id': 750353, 'book_id': 'luk', 'chapter': '...</td>\n      <td>τοῦ Θεοῦ</td>\n      <td>2</td>\n      <td>0</td>\n      <td>[{'id': 727232, 'book_id': 'luk', 'chapter': '...</td>\n      <td>God</td>\n      <td>1</td>\n      <td>τοῦ Θεοῦ = God</td>\n      <td>0.077381</td>\n    </tr>\n    <tr>\n      <th>1</th>\n      <td>118093</td>\n      <td>luk</td>\n      <td>1</td>\n      <td>8</td>\n      <td>12</td>\n      <td>,750396,750397,</td>\n      <td>,727274,</td>\n      <td>1</td>\n      <td>[{'id': 750396, 'book_id': 'luk', 'chapter': '...</td>\n      <td>τοῦ Θεοῦ</td>\n      <td>2</td>\n      <td>0</td>\n      <td>[{'id': 727274, 'book_id': 'luk', 'chapter': '...</td>\n      <td>God</td>\n      <td>1</td>\n      <td>τοῦ Θεοῦ = God</td>\n      <td>0.077381</td>\n    </tr>\n    <tr>\n      <th>2</th>\n      <td>118206</td>\n      <td>luk</td>\n      <td>1</td>\n      <td>16</td>\n      <td>8</td>\n      <td>,750517,750518,</td>\n      <td>,727452,</td>\n      <td>1</td>\n      <td>[{'id': 750517, 'book_id': 'luk', 'chapter': '...</td>\n      <td>τὸν Θεὸν</td>\n      <td>2</td>\n      <td>0</td>\n      <td>[{'id': 727452, 'book_id': 'luk', 'chapter': '...</td>\n      <td>God</td>\n      <td>1</td>\n      <td>τὸν Θεὸν = God</td>\n      <td>0.043651</td>\n    </tr>\n    <tr>\n      <th>3</th>\n      <td>118262</td>\n      <td>luk</td>\n      <td>1</td>\n      <td>19</td>\n      <td>11</td>\n      <td>,750579,750580,</td>\n      <td>,727539,</td>\n      <td>1</td>\n      <td>[{'id': 750579, 'book_id': 'luk', 'chapter': '...</td>\n      <td>τοῦ Θεοῦ</td>\n      <td>2</td>\n      <td>0</td>\n      <td>[{'id': 727539, 'book_id': 'luk', 'chapter': '...</td>\n      <td>God</td>\n      <td>1</td>\n      <td>τοῦ Θεοῦ = God</td>\n      <td>0.077381</td>\n    </tr>\n    <tr>\n      <th>4</th>\n      <td>118382</td>\n      <td>luk</td>\n      <td>1</td>\n      <td>26</td>\n      <td>10</td>\n      <td>,750709,750710,</td>\n      <td>,727714,</td>\n      <td>1</td>\n      <td>[{'id': 750709, 'book_id': 'luk', 'chapter': '...</td>\n      <td>τοῦ Θεοῦ</td>\n      <td>2</td>\n      <td>0</td>\n      <td>[{'id': 727714, 'book_id': 'luk', 'chapter': '...</td>\n      <td>God</td>\n      <td>1</td>\n      <td>τοῦ Θεοῦ = God</td>\n      <td>0.077381</td>\n    </tr>\n  </tbody>\n</table>\n</div>"
     },
     "metadata": {},
     "execution_count": 5
    }
   ],
   "source": [
    "import numpy as np\n",
    "import pandas as pd\n",
    "import matplotlib.pyplot as plt\n",
    "%matplotlib inline\n",
    "import os\n",
    "current_directory = os.getcwd()\n",
    "data_file_name = '/god_alignment_data.csv'\n",
    "print(current_directory + data_file_name)\n",
    "df = pd.read_csv(current_directory + data_file_name)\n",
    "df.head()"
   ]
  },
  {
   "cell_type": "code",
   "execution_count": 25,
   "metadata": {},
   "outputs": [
    {
     "data": {
      "text/plain": [
       "chapter                   int64\n",
       "verse                     int64\n",
       "alignment_num             int64\n",
       "orig_lang_words           int64\n",
       "target_lang_words         int64\n",
       "alignmentOrigWords        int64\n",
       "targetSpan                int64\n",
       "alignmentTargetWords      int64\n",
       "frequency               float64\n",
       "dtype: object"
      ]
     },
     "execution_count": 25,
     "metadata": {},
     "output_type": "execute_result"
    }
   ],
   "source": [
    "df = df[['chapter', 'verse', 'alignment_num', 'orig_lang_words', 'target_lang_words', 'alignmentOrigWords', 'targetSpan', 'alignmentTargetWords', 'frequency']]\n",
    "df['orig_lang_words'] = [int(str.replace(',','')) for str in df['orig_lang_words']]\n",
    "df['target_lang_words'] = [int(str.replace(',','')) for str in df['target_lang_words']]\n",
    "df.dtypes"
   ]
  },
  {
   "cell_type": "code",
   "execution_count": 33,
   "metadata": {},
   "outputs": [
    {
     "data": {
      "text/plain": [
       "array([ 1,  1,  1,  1,  1,  1,  1,  1,  1,  1,  1,  1,  1,  1,  1,  1,  1,\n",
       "        1,  1,  1,  1,  1,  1,  1,  1,  1,  1,  1,  1,  1,  1,  1,  1,  1,\n",
       "        1,  1,  1,  1,  1,  1,  1,  1,  1,  1,  1,  1,  1,  1,  1,  1,  1,\n",
       "        1,  1,  1,  1,  1,  1,  1,  1,  1,  1,  1,  1,  1,  1,  1,  1,  1,\n",
       "        1,  1,  1,  1,  1,  1,  1,  1,  1,  1,  1,  1,  1,  1,  1,  1,  1,\n",
       "        1,  1,  1,  1,  1,  1,  1,  1,  1,  1,  1,  1,  1,  1,  1,  1,  1,\n",
       "        1,  1,  1,  1,  1,  1,  1,  1,  1,  1,  1,  1,  1,  1,  1,  1,  1,\n",
       "        1,  1,  1,  1,  1,  1,  1,  1,  1,  1,  1,  1,  1,  1,  1,  1,  1,\n",
       "        1,  1,  1,  1,  1,  1,  1,  1,  1,  1,  1,  1,  1,  1,  1,  1,  1,\n",
       "        1,  1,  1,  1,  1,  1,  1,  1,  1,  1,  1,  1,  1,  1,  1,  1,  1,\n",
       "        1,  1,  1,  1,  1,  1,  1,  1,  1,  1,  1,  1,  1,  1,  1,  1,  1,\n",
       "        1,  1,  1,  1,  1,  1,  1,  1,  1,  1,  1,  1,  1,  1,  1,  1,  1,\n",
       "        1,  1,  1,  1,  1,  1,  1,  1, -1,  1,  1,  1,  1,  1,  1,  1,  1,\n",
       "        1,  1,  1,  1,  1,  1,  1,  1,  1,  1,  1,  1,  1,  1,  1,  1,  1,\n",
       "        1,  1,  1,  1,  1,  1,  1,  1,  1,  1,  1,  1,  1,  1,  1,  1,  1,\n",
       "        1,  1,  1,  1,  1,  1,  1,  1,  1,  1,  1,  1,  1,  1,  1,  1,  1,\n",
       "        1,  1,  1,  1,  1,  1,  1,  1,  1,  1,  1,  1,  1,  1,  1,  1,  1,\n",
       "        1,  1,  1,  1,  1,  1,  1,  1,  1,  1,  1,  1,  1,  1,  1,  1,  1,\n",
       "        1,  1,  1,  1,  1,  1,  1,  1,  1,  1,  1,  1,  1,  1,  1,  1,  1,\n",
       "        1,  1,  1,  1,  1,  1,  1,  1,  1,  1,  1,  1,  1,  1,  1,  1,  1,\n",
       "        1,  1,  1,  1,  1,  1,  1,  1,  1,  1,  1,  1,  1,  1,  1,  1,  1,\n",
       "        1,  1,  1,  1,  1,  1,  1,  1,  1,  1,  1,  1, -1,  1,  1,  1,  1,\n",
       "        1,  1,  1,  1,  1,  1,  1,  1,  1,  1,  1,  1,  1,  1,  1,  1,  1,\n",
       "        1,  1,  1,  1,  1,  1,  1,  1,  1,  1,  1,  1,  1,  1,  1,  1,  1,\n",
       "        1,  1,  1,  1,  1,  1,  1,  1,  1,  1,  1,  1,  1,  1,  1,  1,  1,\n",
       "        1,  1,  1,  1,  1,  1,  1,  1,  1,  1,  1,  1, -1,  1,  1,  1,  1,\n",
       "        1,  1,  1,  1,  1,  1,  1,  1,  1,  1,  1,  1,  1,  1,  1,  1,  1,\n",
       "        1,  1,  1,  1,  1,  1,  1,  1,  1,  1,  1,  1,  1,  1,  1,  1,  1,\n",
       "        1,  1,  1,  1,  1,  1,  1,  1,  1,  1,  1,  1,  1,  1,  1,  1,  1,\n",
       "        1,  1,  1,  1,  1,  1,  1,  1,  1,  1,  1])"
      ]
     },
     "execution_count": 33,
     "metadata": {},
     "output_type": "execute_result"
    }
   ],
   "source": [
    "from sklearn.svm import OneClassSVM\n",
    "nu = 0.0093\n",
    "ocsvm = OneClassSVM(kernel='rbf', gamma='scale', nu=nu)\n",
    "ocsvm.fit(df)\n",
    "pred_ocsvm = ocsvm.predict(df)\n",
    "pred_ocsvm\n",
    "# Outliers are marked with a -1"
   ]
  },
  {
   "cell_type": "code",
   "execution_count": 34,
   "metadata": {},
   "outputs": [
    {
     "data": {
      "text/html": [
       "<div>\n",
       "<style scoped>\n",
       "    .dataframe tbody tr th:only-of-type {\n",
       "        vertical-align: middle;\n",
       "    }\n",
       "\n",
       "    .dataframe tbody tr th {\n",
       "        vertical-align: top;\n",
       "    }\n",
       "\n",
       "    .dataframe thead th {\n",
       "        text-align: right;\n",
       "    }\n",
       "</style>\n",
       "<table border=\"1\" class=\"dataframe\">\n",
       "  <thead>\n",
       "    <tr style=\"text-align: right;\">\n",
       "      <th></th>\n",
       "      <th>chapter</th>\n",
       "      <th>verse</th>\n",
       "      <th>alignment_num</th>\n",
       "      <th>orig_lang_words</th>\n",
       "      <th>target_lang_words</th>\n",
       "      <th>alignmentOrigWords</th>\n",
       "      <th>targetSpan</th>\n",
       "      <th>alignmentTargetWords</th>\n",
       "      <th>frequency</th>\n",
       "    </tr>\n",
       "  </thead>\n",
       "  <tbody>\n",
       "    <tr>\n",
       "      <th>212</th>\n",
       "      <td>12</td>\n",
       "      <td>22</td>\n",
       "      <td>4</td>\n",
       "      <td>777735</td>\n",
       "      <td>763533763534763535</td>\n",
       "      <td>1</td>\n",
       "      <td>2</td>\n",
       "      <td>3</td>\n",
       "      <td>0.001984</td>\n",
       "    </tr>\n",
       "    <tr>\n",
       "      <th>369</th>\n",
       "      <td>4</td>\n",
       "      <td>19</td>\n",
       "      <td>0</td>\n",
       "      <td>794406794407794408</td>\n",
       "      <td>786230786232</td>\n",
       "      <td>3</td>\n",
       "      <td>2</td>\n",
       "      <td>2</td>\n",
       "      <td>0.001984</td>\n",
       "    </tr>\n",
       "    <tr>\n",
       "      <th>437</th>\n",
       "      <td>1</td>\n",
       "      <td>5</td>\n",
       "      <td>12</td>\n",
       "      <td>799637799638799639</td>\n",
       "      <td>793530</td>\n",
       "      <td>3</td>\n",
       "      <td>0</td>\n",
       "      <td>1</td>\n",
       "      <td>0.001984</td>\n",
       "    </tr>\n",
       "  </tbody>\n",
       "</table>\n",
       "</div>"
      ],
      "text/plain": [
       "     chapter  verse  alignment_num     orig_lang_words   target_lang_words  \\\n",
       "212       12     22              4              777735  763533763534763535   \n",
       "369        4     19              0  794406794407794408        786230786232   \n",
       "437        1      5             12  799637799638799639              793530   \n",
       "\n",
       "     alignmentOrigWords  targetSpan  alignmentTargetWords  frequency  \n",
       "212                   1           2                     3   0.001984  \n",
       "369                   3           2                     2   0.001984  \n",
       "437                   3           0                     1   0.001984  "
      ]
     },
     "execution_count": 34,
     "metadata": {},
     "output_type": "execute_result"
    }
   ],
   "source": [
    "outliers = df[pred_ocsvm == -1]\n",
    "outliers"
   ]
  },
  {
   "cell_type": "code",
   "execution_count": null,
   "metadata": {},
   "outputs": [],
   "source": []
  }
 ],
 "metadata": {
  "kernelspec": {
   "display_name": "Python 3",
   "language": "python",
   "name": "python3"
  },
  "language_info": {
   "codemirror_mode": {
    "name": "ipython",
    "version": 3
   },
   "file_extension": ".py",
   "mimetype": "text/x-python",
   "name": "python",
   "nbconvert_exporter": "python",
   "pygments_lexer": "ipython3",
   "version": "3.6.10-final"
  }
 },
 "nbformat": 4,
 "nbformat_minor": 4
}